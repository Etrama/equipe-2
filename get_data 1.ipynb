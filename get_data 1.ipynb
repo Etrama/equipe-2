{
 "cells": [
  {
   "cell_type": "code",
   "execution_count": 1,
   "metadata": {},
   "outputs": [],
   "source": [
    "import psycopg2\n",
    "import pandas as pd"
   ]
  },
  {
   "cell_type": "code",
   "execution_count": 2,
   "metadata": {},
   "outputs": [
    {
     "name": "stdout",
     "output_type": "stream",
     "text": [
      "Connection to the database established successfully!\n"
     ]
    }
   ],
   "source": [
    "hostname = \"pgsql-siackathon.postgres.database.azure.com\"\n",
    "database = \"postgres\"\n",
    "port = 5432\n",
    "user = \"siackathon\"\n",
    "password = \"gFvwZjgL06u5uPyh7PnG\"\n",
    "\n",
    "connection = psycopg2.connect(\n",
    "    host=hostname,\n",
    "    database=database,\n",
    "    user=user,\n",
    "    password=password,\n",
    "    port=port,\n",
    "    sslmode='require'  # Ensures SSL connection\n",
    ")\n",
    "print(\"Connection to the database established successfully!\")"
   ]
  },
  {
   "cell_type": "code",
   "execution_count": 3,
   "metadata": {},
   "outputs": [
    {
     "name": "stderr",
     "output_type": "stream",
     "text": [
      "/tmp/ipykernel_2665/3321281568.py:2: UserWarning: pandas only supports SQLAlchemy connectable (engine/connection) or database string URI or sqlite3 DBAPI2 connection. Other DBAPI2 objects are not tested. Please consider using SQLAlchemy.\n",
      "  data = pd.read_sql_query(query, connection)\n"
     ]
    },
    {
     "name": "stdout",
     "output_type": "stream",
     "text": [
      "Data retrieved successfully!\n"
     ]
    }
   ],
   "source": [
    "query = \"SELECT * FROM flotation_data;\"\n",
    "data = pd.read_sql_query(query, connection)\n",
    "print(\"Data retrieved successfully!\")"
   ]
  },
  {
   "cell_type": "code",
   "execution_count": 4,
   "metadata": {},
   "outputs": [],
   "source": [
    "df = data.copy()"
   ]
  },
  {
   "cell_type": "code",
   "execution_count": 5,
   "metadata": {},
   "outputs": [],
   "source": [
    "# transform timestamp and sort\n",
    "def transform_and_sort(df: pd.DataFrame, date_var) -> pd.DataFrame:\n",
    "    df[date_var] = pd.to_datetime(df[date_var])\n",
    "    df = df.sort_values(by=date_var)\n",
    "    df = df.reset_index(drop=True)\n",
    "    return df\n",
    "df = transform_and_sort(df, 'ts')"
   ]
  },
  {
   "cell_type": "code",
   "execution_count": 6,
   "metadata": {},
   "outputs": [
    {
     "data": {
      "text/plain": [
       "array([1824, 2024], dtype=int32)"
      ]
     },
     "execution_count": 6,
     "metadata": {},
     "output_type": "execute_result"
    }
   ],
   "source": [
    "df.ts.dt.year.unique()"
   ]
  },
  {
   "cell_type": "code",
   "execution_count": 7,
   "metadata": {},
   "outputs": [
    {
     "data": {
      "text/plain": [
       "(717453, 30)"
      ]
     },
     "execution_count": 7,
     "metadata": {},
     "output_type": "execute_result"
    }
   ],
   "source": [
    "df.shape"
   ]
  },
  {
   "cell_type": "code",
   "execution_count": 8,
   "metadata": {},
   "outputs": [
    {
     "data": {
      "text/plain": [
       "(708812, 30)"
      ]
     },
     "execution_count": 8,
     "metadata": {},
     "output_type": "execute_result"
    }
   ],
   "source": [
    "df = df[df.ts>'2000']\n",
    "df.shape"
   ]
  },
  {
   "cell_type": "markdown",
   "metadata": {},
   "source": [
    "#### EDA"
   ]
  },
  {
   "cell_type": "code",
   "execution_count": 9,
   "metadata": {},
   "outputs": [],
   "source": [
    "def find_numerical_columns_with_str_values(data: pd.DataFrame):\n",
    "    \"\"\"\n",
    "    Find list of numerical columns in the DataFrame that contain string values.\n",
    "    Args:\n",
    "        data (pd.DataFrame): The input DataFrame.\n",
    "\n",
    "    Returns:\n",
    "        List[str]: A list of names of numerical columns that contain string values.\n",
    "    \"\"\"\n",
    "    categorical_cols = data.select_dtypes(include=['object']).columns\n",
    "    cols_with_str_values = []\n",
    "    for col in categorical_cols:\n",
    "        # Convert to numeric and check for NaNs\n",
    "        is_non_numeric = pd.to_numeric(data[col], errors='coerce').isna().sum()\n",
    "        if is_non_numeric != 0:\n",
    "            cols_with_str_values.append(col)    \n",
    "            \n",
    "    return cols_with_str_values\n",
    "\n",
    "def find_str_values_in_num_cols(data: pd.DataFrame) -> pd.DataFrame:\n",
    "\n",
    "    # string_cols = find_numerical_columns_with_str_values(data)\n",
    "    string_cols = ['% Iron Feed']\n",
    "    print('We have ', len(string_cols), 'numeric variables with string data ')\n",
    "    string_values_dict = {}\n",
    "    for col in string_cols:\n",
    "        # Filter the column for string values\n",
    "        string_values = data[col].apply(lambda x: isinstance(x, str))\n",
    "\n",
    "        # Extract unique string values and their counts\n",
    "        unique_strings = data[string_values][col].value_counts()\n",
    "        if not unique_strings.empty:\n",
    "            string_values_dict[col] = unique_strings.to_dict()\n",
    "\n",
    "    # Transform the dictionary into a DataFrame\n",
    "    table = []\n",
    "    for col, values in string_values_dict.items():\n",
    "        for string_value, count in values.items():\n",
    "            percentage = count/len(data) * 100\n",
    "            table.append([col, string_value, count, percentage])\n",
    "\n",
    "    string_values_df = pd.DataFrame(table, columns=['Column', 'String Value', 'Count', 'Percentage'])\n",
    "    return string_values_df  "
   ]
  },
  {
   "cell_type": "code",
   "execution_count": 10,
   "metadata": {},
   "outputs": [
    {
     "name": "stdout",
     "output_type": "stream",
     "text": [
      "We have  1 numeric variables with string data \n"
     ]
    },
    {
     "data": {
      "text/html": [
       "<div>\n",
       "<style scoped>\n",
       "    .dataframe tbody tr th:only-of-type {\n",
       "        vertical-align: middle;\n",
       "    }\n",
       "\n",
       "    .dataframe tbody tr th {\n",
       "        vertical-align: top;\n",
       "    }\n",
       "\n",
       "    .dataframe thead th {\n",
       "        text-align: right;\n",
       "    }\n",
       "</style>\n",
       "<table border=\"1\" class=\"dataframe\">\n",
       "  <thead>\n",
       "    <tr style=\"text-align: right;\">\n",
       "      <th></th>\n",
       "      <th>Column</th>\n",
       "      <th>String Value</th>\n",
       "      <th>Count</th>\n",
       "      <th>Percentage</th>\n",
       "    </tr>\n",
       "  </thead>\n",
       "  <tbody>\n",
       "    <tr>\n",
       "      <th>0</th>\n",
       "      <td>% Iron Feed</td>\n",
       "      <td>64.03</td>\n",
       "      <td>138207</td>\n",
       "      <td>19.498400</td>\n",
       "    </tr>\n",
       "    <tr>\n",
       "      <th>1</th>\n",
       "      <td>% Iron Feed</td>\n",
       "      <td>57.46</td>\n",
       "      <td>44472</td>\n",
       "      <td>6.274160</td>\n",
       "    </tr>\n",
       "    <tr>\n",
       "      <th>2</th>\n",
       "      <td>% Iron Feed</td>\n",
       "      <td>48.81</td>\n",
       "      <td>33523</td>\n",
       "      <td>4.729463</td>\n",
       "    </tr>\n",
       "    <tr>\n",
       "      <th>3</th>\n",
       "      <td>% Iron Feed</td>\n",
       "      <td>52.61</td>\n",
       "      <td>14099</td>\n",
       "      <td>1.989103</td>\n",
       "    </tr>\n",
       "    <tr>\n",
       "      <th>4</th>\n",
       "      <td>% Iron Feed</td>\n",
       "      <td>ERROR</td>\n",
       "      <td>13535</td>\n",
       "      <td>1.909533</td>\n",
       "    </tr>\n",
       "    <tr>\n",
       "      <th>...</th>\n",
       "      <td>...</td>\n",
       "      <td>...</td>\n",
       "      <td>...</td>\n",
       "      <td>...</td>\n",
       "    </tr>\n",
       "    <tr>\n",
       "      <th>264</th>\n",
       "      <td>% Iron Feed</td>\n",
       "      <td>60.66</td>\n",
       "      <td>1036</td>\n",
       "      <td>0.146160</td>\n",
       "    </tr>\n",
       "    <tr>\n",
       "      <th>265</th>\n",
       "      <td>% Iron Feed</td>\n",
       "      <td>55.09</td>\n",
       "      <td>1033</td>\n",
       "      <td>0.145737</td>\n",
       "    </tr>\n",
       "    <tr>\n",
       "      <th>266</th>\n",
       "      <td>% Iron Feed</td>\n",
       "      <td>51.27</td>\n",
       "      <td>1033</td>\n",
       "      <td>0.145737</td>\n",
       "    </tr>\n",
       "    <tr>\n",
       "      <th>267</th>\n",
       "      <td>% Iron Feed</td>\n",
       "      <td>55.71</td>\n",
       "      <td>1027</td>\n",
       "      <td>0.144890</td>\n",
       "    </tr>\n",
       "    <tr>\n",
       "      <th>268</th>\n",
       "      <td>% Iron Feed</td>\n",
       "      <td>57.45</td>\n",
       "      <td>871</td>\n",
       "      <td>0.122882</td>\n",
       "    </tr>\n",
       "  </tbody>\n",
       "</table>\n",
       "<p>269 rows × 4 columns</p>\n",
       "</div>"
      ],
      "text/plain": [
       "          Column String Value   Count  Percentage\n",
       "0    % Iron Feed        64.03  138207   19.498400\n",
       "1    % Iron Feed        57.46   44472    6.274160\n",
       "2    % Iron Feed        48.81   33523    4.729463\n",
       "3    % Iron Feed        52.61   14099    1.989103\n",
       "4    % Iron Feed        ERROR   13535    1.909533\n",
       "..           ...          ...     ...         ...\n",
       "264  % Iron Feed        60.66    1036    0.146160\n",
       "265  % Iron Feed        55.09    1033    0.145737\n",
       "266  % Iron Feed        51.27    1033    0.145737\n",
       "267  % Iron Feed        55.71    1027    0.144890\n",
       "268  % Iron Feed        57.45     871    0.122882\n",
       "\n",
       "[269 rows x 4 columns]"
      ]
     },
     "execution_count": 10,
     "metadata": {},
     "output_type": "execute_result"
    }
   ],
   "source": [
    "string_values_df = find_str_values_in_num_cols(df)\n",
    "string_values_df"
   ]
  },
  {
   "cell_type": "code",
   "execution_count": 11,
   "metadata": {},
   "outputs": [
    {
     "data": {
      "text/html": [
       "<div>\n",
       "<style scoped>\n",
       "    .dataframe tbody tr th:only-of-type {\n",
       "        vertical-align: middle;\n",
       "    }\n",
       "\n",
       "    .dataframe tbody tr th {\n",
       "        vertical-align: top;\n",
       "    }\n",
       "\n",
       "    .dataframe thead th {\n",
       "        text-align: right;\n",
       "    }\n",
       "</style>\n",
       "<table border=\"1\" class=\"dataframe\">\n",
       "  <thead>\n",
       "    <tr style=\"text-align: right;\">\n",
       "      <th></th>\n",
       "      <th>ts</th>\n",
       "      <th>% Iron Feed</th>\n",
       "      <th>% Silica Feed</th>\n",
       "      <th>Starch Flow</th>\n",
       "      <th>Amina Flow</th>\n",
       "      <th>Ore Pulp Flow</th>\n",
       "      <th>Ore Pulp pH</th>\n",
       "      <th>Ore Pulp Density</th>\n",
       "      <th>Cell Spin Factor</th>\n",
       "      <th>Bubble Size</th>\n",
       "      <th>...</th>\n",
       "      <th>Flotation Column 02 Level</th>\n",
       "      <th>Flotation Column 03 Level</th>\n",
       "      <th>Flotation Column 04 Level</th>\n",
       "      <th>Flotation Column 05 Level</th>\n",
       "      <th>Flotation Column 06 Level</th>\n",
       "      <th>Flotation Column 07 Level</th>\n",
       "      <th>% Iron Concentrate</th>\n",
       "      <th>% Silica Concentrate</th>\n",
       "      <th>% Iron Concentrate 2</th>\n",
       "      <th>% Silica Concentrate 2</th>\n",
       "    </tr>\n",
       "  </thead>\n",
       "  <tbody>\n",
       "    <tr>\n",
       "      <th>8646</th>\n",
       "      <td>2024-03-15 01:01:40</td>\n",
       "      <td>ERROR</td>\n",
       "      <td>ERROR</td>\n",
       "      <td>3079.10</td>\n",
       "      <td>564.70</td>\n",
       "      <td>396.53</td>\n",
       "      <td>10.07</td>\n",
       "      <td>1.74</td>\n",
       "      <td>1.04</td>\n",
       "      <td>0.9</td>\n",
       "      <td>...</td>\n",
       "      <td>AIR: 443.27</td>\n",
       "      <td>AIR: 460.45</td>\n",
       "      <td>AIR: 439.92</td>\n",
       "      <td>AIR: 451.59</td>\n",
       "      <td>433.54</td>\n",
       "      <td>425.46</td>\n",
       "      <td>66.91</td>\n",
       "      <td>1.31</td>\n",
       "      <td>66.94</td>\n",
       "      <td>NaN</td>\n",
       "    </tr>\n",
       "    <tr>\n",
       "      <th>8656</th>\n",
       "      <td>2024-03-15 01:05:00</td>\n",
       "      <td>ERROR</td>\n",
       "      <td>ERROR</td>\n",
       "      <td>3562.70</td>\n",
       "      <td>560.36</td>\n",
       "      <td>394.69</td>\n",
       "      <td>10.08</td>\n",
       "      <td>1.74</td>\n",
       "      <td>1.05</td>\n",
       "      <td>0.9</td>\n",
       "      <td>...</td>\n",
       "      <td>AIR: 416.42</td>\n",
       "      <td>AIR: 435.96</td>\n",
       "      <td>AIR: 459.92</td>\n",
       "      <td>AIR: 484.36</td>\n",
       "      <td>457.85</td>\n",
       "      <td>473.85</td>\n",
       "      <td>66.91</td>\n",
       "      <td>1.31</td>\n",
       "      <td>66.94</td>\n",
       "      <td>NaN</td>\n",
       "    </tr>\n",
       "    <tr>\n",
       "      <th>8678</th>\n",
       "      <td>2024-03-15 01:12:20</td>\n",
       "      <td>ERROR</td>\n",
       "      <td>ERROR</td>\n",
       "      <td>3725.78</td>\n",
       "      <td>570.13</td>\n",
       "      <td>403.89</td>\n",
       "      <td>10.11</td>\n",
       "      <td>1.74</td>\n",
       "      <td>0.96</td>\n",
       "      <td>0.8</td>\n",
       "      <td>...</td>\n",
       "      <td>AIR: 495.44</td>\n",
       "      <td>AIR: 458.67</td>\n",
       "      <td>AIR: 428.4</td>\n",
       "      <td>AIR: 385.22</td>\n",
       "      <td>445.75</td>\n",
       "      <td>432.02</td>\n",
       "      <td>66.91</td>\n",
       "      <td>1.31</td>\n",
       "      <td>66.94</td>\n",
       "      <td>NaN</td>\n",
       "    </tr>\n",
       "    <tr>\n",
       "      <th>8704</th>\n",
       "      <td>2024-03-15 01:21:20</td>\n",
       "      <td>ERROR</td>\n",
       "      <td>ERROR</td>\n",
       "      <td>3055.86</td>\n",
       "      <td>596.71</td>\n",
       "      <td>398.44</td>\n",
       "      <td>10.13</td>\n",
       "      <td>1.75</td>\n",
       "      <td>0.91</td>\n",
       "      <td>0.7</td>\n",
       "      <td>...</td>\n",
       "      <td>AIR: 264.88</td>\n",
       "      <td>AIR: 464.68</td>\n",
       "      <td>AIR: 476.56</td>\n",
       "      <td>AIR: 469.95</td>\n",
       "      <td>460.68</td>\n",
       "      <td>418.79</td>\n",
       "      <td>66.91</td>\n",
       "      <td>1.31</td>\n",
       "      <td>66.94</td>\n",
       "      <td>NaN</td>\n",
       "    </tr>\n",
       "    <tr>\n",
       "      <th>8708</th>\n",
       "      <td>2024-03-15 01:22:40</td>\n",
       "      <td>ERROR</td>\n",
       "      <td>ERROR</td>\n",
       "      <td>3091.11</td>\n",
       "      <td>588.72</td>\n",
       "      <td>398.38</td>\n",
       "      <td>10.13</td>\n",
       "      <td>1.75</td>\n",
       "      <td>0.92</td>\n",
       "      <td>0.8</td>\n",
       "      <td>...</td>\n",
       "      <td>AIR: 514.75</td>\n",
       "      <td>AIR: 445.72</td>\n",
       "      <td>AIR: 418.71</td>\n",
       "      <td>AIR: 449.06</td>\n",
       "      <td>497.86</td>\n",
       "      <td>517.93</td>\n",
       "      <td>66.91</td>\n",
       "      <td>1.31</td>\n",
       "      <td>66.94</td>\n",
       "      <td>NaN</td>\n",
       "    </tr>\n",
       "    <tr>\n",
       "      <th>...</th>\n",
       "      <td>...</td>\n",
       "      <td>...</td>\n",
       "      <td>...</td>\n",
       "      <td>...</td>\n",
       "      <td>...</td>\n",
       "      <td>...</td>\n",
       "      <td>...</td>\n",
       "      <td>...</td>\n",
       "      <td>...</td>\n",
       "      <td>...</td>\n",
       "      <td>...</td>\n",
       "      <td>...</td>\n",
       "      <td>...</td>\n",
       "      <td>...</td>\n",
       "      <td>...</td>\n",
       "      <td>...</td>\n",
       "      <td>...</td>\n",
       "      <td>...</td>\n",
       "      <td>...</td>\n",
       "      <td>...</td>\n",
       "      <td>...</td>\n",
       "    </tr>\n",
       "    <tr>\n",
       "      <th>717168</th>\n",
       "      <td>2024-09-10 07:18:00</td>\n",
       "      <td>ERROR</td>\n",
       "      <td>ERROR</td>\n",
       "      <td>1145.56</td>\n",
       "      <td>254.67</td>\n",
       "      <td>384.77</td>\n",
       "      <td>9.14</td>\n",
       "      <td>1.52</td>\n",
       "      <td>1.01</td>\n",
       "      <td>0.9</td>\n",
       "      <td>...</td>\n",
       "      <td>AIR: 645.99</td>\n",
       "      <td>AIR: 561.25</td>\n",
       "      <td>AIR: 422.72</td>\n",
       "      <td>AIR: 369.45</td>\n",
       "      <td>432.41</td>\n",
       "      <td>301.86</td>\n",
       "      <td>63.00</td>\n",
       "      <td>4.40</td>\n",
       "      <td>57.13</td>\n",
       "      <td>5.15</td>\n",
       "    </tr>\n",
       "    <tr>\n",
       "      <th>717219</th>\n",
       "      <td>2024-09-10 07:35:00</td>\n",
       "      <td>ERROR</td>\n",
       "      <td>ERROR</td>\n",
       "      <td>2043.88</td>\n",
       "      <td>287.81</td>\n",
       "      <td>384.51</td>\n",
       "      <td>9.25</td>\n",
       "      <td>1.52</td>\n",
       "      <td>0.95</td>\n",
       "      <td>0.9</td>\n",
       "      <td>...</td>\n",
       "      <td>AIR: 612.28</td>\n",
       "      <td>AIR: 666.35</td>\n",
       "      <td>AIR: 398.7</td>\n",
       "      <td>AIR: 437.87</td>\n",
       "      <td>540.96</td>\n",
       "      <td>376.81</td>\n",
       "      <td>63.00</td>\n",
       "      <td>4.39</td>\n",
       "      <td>57.13</td>\n",
       "      <td>5.15</td>\n",
       "    </tr>\n",
       "    <tr>\n",
       "      <th>717238</th>\n",
       "      <td>2024-09-10 07:41:20</td>\n",
       "      <td>ERROR</td>\n",
       "      <td>ERROR</td>\n",
       "      <td>805.56</td>\n",
       "      <td>290.83</td>\n",
       "      <td>384.42</td>\n",
       "      <td>9.22</td>\n",
       "      <td>1.52</td>\n",
       "      <td>0.94</td>\n",
       "      <td>0.8</td>\n",
       "      <td>...</td>\n",
       "      <td>AIR: 594.58</td>\n",
       "      <td>AIR: 596.89</td>\n",
       "      <td>AIR: 423.04</td>\n",
       "      <td>AIR: 507.34</td>\n",
       "      <td>494.83</td>\n",
       "      <td>477.53</td>\n",
       "      <td>63.00</td>\n",
       "      <td>4.38</td>\n",
       "      <td>57.13</td>\n",
       "      <td>5.15</td>\n",
       "    </tr>\n",
       "    <tr>\n",
       "      <th>717279</th>\n",
       "      <td>2024-09-10 07:55:00</td>\n",
       "      <td>ERROR</td>\n",
       "      <td>ERROR</td>\n",
       "      <td>2017.48</td>\n",
       "      <td>297.35</td>\n",
       "      <td>384.21</td>\n",
       "      <td>9.14</td>\n",
       "      <td>1.52</td>\n",
       "      <td>0.89</td>\n",
       "      <td>0.8</td>\n",
       "      <td>...</td>\n",
       "      <td>AIR: 589.31</td>\n",
       "      <td>AIR: 532.57</td>\n",
       "      <td>AIR: 527.97</td>\n",
       "      <td>AIR: 506.95</td>\n",
       "      <td>683.88</td>\n",
       "      <td>636.62</td>\n",
       "      <td>63.00</td>\n",
       "      <td>4.37</td>\n",
       "      <td>57.13</td>\n",
       "      <td>5.15</td>\n",
       "    </tr>\n",
       "    <tr>\n",
       "      <th>717369</th>\n",
       "      <td>2024-09-10 08:25:00</td>\n",
       "      <td>ERROR</td>\n",
       "      <td>ERROR</td>\n",
       "      <td>2081.67</td>\n",
       "      <td>311.66</td>\n",
       "      <td>383.77</td>\n",
       "      <td>9.01</td>\n",
       "      <td>1.52</td>\n",
       "      <td>0.97</td>\n",
       "      <td>0.8</td>\n",
       "      <td>...</td>\n",
       "      <td>AIR: 820.47</td>\n",
       "      <td>AIR: 877.25</td>\n",
       "      <td>AIR: 213.94</td>\n",
       "      <td>AIR: 654.54</td>\n",
       "      <td>652.64</td>\n",
       "      <td>642.72</td>\n",
       "      <td>63.00</td>\n",
       "      <td>4.34</td>\n",
       "      <td>57.27</td>\n",
       "      <td>5.07</td>\n",
       "    </tr>\n",
       "  </tbody>\n",
       "</table>\n",
       "<p>13535 rows × 30 columns</p>\n",
       "</div>"
      ],
      "text/plain": [
       "                        ts % Iron Feed % Silica Feed  Starch Flow  Amina Flow  \\\n",
       "8646   2024-03-15 01:01:40       ERROR         ERROR      3079.10      564.70   \n",
       "8656   2024-03-15 01:05:00       ERROR         ERROR      3562.70      560.36   \n",
       "8678   2024-03-15 01:12:20       ERROR         ERROR      3725.78      570.13   \n",
       "8704   2024-03-15 01:21:20       ERROR         ERROR      3055.86      596.71   \n",
       "8708   2024-03-15 01:22:40       ERROR         ERROR      3091.11      588.72   \n",
       "...                    ...         ...           ...          ...         ...   \n",
       "717168 2024-09-10 07:18:00       ERROR         ERROR      1145.56      254.67   \n",
       "717219 2024-09-10 07:35:00       ERROR         ERROR      2043.88      287.81   \n",
       "717238 2024-09-10 07:41:20       ERROR         ERROR       805.56      290.83   \n",
       "717279 2024-09-10 07:55:00       ERROR         ERROR      2017.48      297.35   \n",
       "717369 2024-09-10 08:25:00       ERROR         ERROR      2081.67      311.66   \n",
       "\n",
       "        Ore Pulp Flow  Ore Pulp pH  Ore Pulp Density  Cell Spin Factor  \\\n",
       "8646           396.53        10.07              1.74              1.04   \n",
       "8656           394.69        10.08              1.74              1.05   \n",
       "8678           403.89        10.11              1.74              0.96   \n",
       "8704           398.44        10.13              1.75              0.91   \n",
       "8708           398.38        10.13              1.75              0.92   \n",
       "...               ...          ...               ...               ...   \n",
       "717168         384.77         9.14              1.52              1.01   \n",
       "717219         384.51         9.25              1.52              0.95   \n",
       "717238         384.42         9.22              1.52              0.94   \n",
       "717279         384.21         9.14              1.52              0.89   \n",
       "717369         383.77         9.01              1.52              0.97   \n",
       "\n",
       "        Bubble Size  ...  Flotation Column 02 Level  \\\n",
       "8646            0.9  ...                AIR: 443.27   \n",
       "8656            0.9  ...                AIR: 416.42   \n",
       "8678            0.8  ...                AIR: 495.44   \n",
       "8704            0.7  ...                AIR: 264.88   \n",
       "8708            0.8  ...                AIR: 514.75   \n",
       "...             ...  ...                        ...   \n",
       "717168          0.9  ...                AIR: 645.99   \n",
       "717219          0.9  ...                AIR: 612.28   \n",
       "717238          0.8  ...                AIR: 594.58   \n",
       "717279          0.8  ...                AIR: 589.31   \n",
       "717369          0.8  ...                AIR: 820.47   \n",
       "\n",
       "        Flotation Column 03 Level  Flotation Column 04 Level  \\\n",
       "8646                  AIR: 460.45                AIR: 439.92   \n",
       "8656                  AIR: 435.96                AIR: 459.92   \n",
       "8678                  AIR: 458.67                 AIR: 428.4   \n",
       "8704                  AIR: 464.68                AIR: 476.56   \n",
       "8708                  AIR: 445.72                AIR: 418.71   \n",
       "...                           ...                        ...   \n",
       "717168                AIR: 561.25                AIR: 422.72   \n",
       "717219                AIR: 666.35                 AIR: 398.7   \n",
       "717238                AIR: 596.89                AIR: 423.04   \n",
       "717279                AIR: 532.57                AIR: 527.97   \n",
       "717369                AIR: 877.25                AIR: 213.94   \n",
       "\n",
       "        Flotation Column 05 Level  Flotation Column 06 Level  \\\n",
       "8646                  AIR: 451.59                     433.54   \n",
       "8656                  AIR: 484.36                     457.85   \n",
       "8678                  AIR: 385.22                     445.75   \n",
       "8704                  AIR: 469.95                     460.68   \n",
       "8708                  AIR: 449.06                     497.86   \n",
       "...                           ...                        ...   \n",
       "717168                AIR: 369.45                     432.41   \n",
       "717219                AIR: 437.87                     540.96   \n",
       "717238                AIR: 507.34                     494.83   \n",
       "717279                AIR: 506.95                     683.88   \n",
       "717369                AIR: 654.54                     652.64   \n",
       "\n",
       "        Flotation Column 07 Level  % Iron Concentrate  % Silica Concentrate  \\\n",
       "8646                       425.46               66.91                  1.31   \n",
       "8656                       473.85               66.91                  1.31   \n",
       "8678                       432.02               66.91                  1.31   \n",
       "8704                       418.79               66.91                  1.31   \n",
       "8708                       517.93               66.91                  1.31   \n",
       "...                           ...                 ...                   ...   \n",
       "717168                     301.86               63.00                  4.40   \n",
       "717219                     376.81               63.00                  4.39   \n",
       "717238                     477.53               63.00                  4.38   \n",
       "717279                     636.62               63.00                  4.37   \n",
       "717369                     642.72               63.00                  4.34   \n",
       "\n",
       "        % Iron Concentrate 2 % Silica Concentrate 2  \n",
       "8646                   66.94                    NaN  \n",
       "8656                   66.94                    NaN  \n",
       "8678                   66.94                    NaN  \n",
       "8704                   66.94                    NaN  \n",
       "8708                   66.94                    NaN  \n",
       "...                      ...                    ...  \n",
       "717168                 57.13                   5.15  \n",
       "717219                 57.13                   5.15  \n",
       "717238                 57.13                   5.15  \n",
       "717279                 57.13                   5.15  \n",
       "717369                 57.27                   5.07  \n",
       "\n",
       "[13535 rows x 30 columns]"
      ]
     },
     "execution_count": 11,
     "metadata": {},
     "output_type": "execute_result"
    }
   ],
   "source": [
    "df[df['% Iron Feed'] == 'ERROR']"
   ]
  },
  {
   "cell_type": "markdown",
   "metadata": {},
   "source": [
    "#### Preprocessing"
   ]
  },
  {
   "cell_type": "code",
   "execution_count": 12,
   "metadata": {},
   "outputs": [],
   "source": [
    "cat_variables = df.select_dtypes(include=['object']).columns\n",
    "# df_filtered = df[df['% Iron Feed'] != 'ERROR']\n",
    "df_filtered = df\n",
    "for col in cat_variables[2:]:\n",
    "    df_filtered[col] = df_filtered[col].apply(lambda x: x[5:])\n",
    "    \n",
    "df_filtered[cat_variables] = df_filtered[cat_variables].apply(pd.to_numeric, errors='coerce')  "
   ]
  },
  {
   "cell_type": "code",
   "execution_count": 13,
   "metadata": {},
   "outputs": [],
   "source": [
    "# remove rows with nan in target variable\n",
    "df_filtered = df_filtered.dropna(subset=['% Silica Concentrate 2'])"
   ]
  },
  {
   "cell_type": "code",
   "execution_count": 14,
   "metadata": {},
   "outputs": [
    {
     "name": "stdout",
     "output_type": "stream",
     "text": [
      "ts                              0\n",
      "% Iron Feed                     0\n",
      "% Silica Feed                   0\n",
      "Starch Flow                     0\n",
      "Amina Flow                      0\n",
      "Ore Pulp Flow                   0\n",
      "Ore Pulp pH                     0\n",
      "Ore Pulp Density                0\n",
      "Cell Spin Factor                0\n",
      "Bubble Size                     0\n",
      "Iron Binding Agent (kg)         0\n",
      "Binder Activator (kg)           0\n",
      "Flotation Column 01 Air Flow    0\n",
      "Flotation Column 02 Air Flow    0\n",
      "Flotation Column 03 Air Flow    0\n",
      "Flotation Column 04 Air Flow    0\n",
      "Flotation Column 05 Air Flow    0\n",
      "Flotation Column 06 Air Flow    0\n",
      "Flotation Column 07 Air Flow    0\n",
      "Flotation Column 01 Level       0\n",
      "Flotation Column 02 Level       0\n",
      "Flotation Column 03 Level       0\n",
      "Flotation Column 04 Level       0\n",
      "Flotation Column 05 Level       0\n",
      "Flotation Column 06 Level       0\n",
      "Flotation Column 07 Level       0\n",
      "% Iron Concentrate              0\n",
      "% Silica Concentrate            0\n",
      "% Iron Concentrate 2            0\n",
      "% Silica Concentrate 2          0\n",
      "dtype: int64\n",
      "                      ts  % Iron Feed  % Silica Feed  Starch Flow  Amina Flow  \\\n",
      "8813 2024-03-15 02:00:00         55.2          16.98      3170.41      539.67   \n",
      "8814 2024-03-15 02:00:20         55.2          16.98      3208.30      544.92   \n",
      "8815 2024-03-15 02:00:40         55.2          16.98      3211.33      543.49   \n",
      "8816 2024-03-15 02:01:00         55.2          16.98      3202.64      540.86   \n",
      "8817 2024-03-15 02:01:20         55.2          16.98      3221.00      541.63   \n",
      "\n",
      "      Ore Pulp Flow  Ore Pulp pH  Ore Pulp Density  Cell Spin Factor  \\\n",
      "8813         399.70        10.16              1.67              0.98   \n",
      "8814         397.53        10.16              1.67              0.98   \n",
      "8815         391.63        10.16              1.67              0.98   \n",
      "8816         395.23        10.16              1.67              0.99   \n",
      "8817         400.02        10.16              1.66              0.99   \n",
      "\n",
      "      Bubble Size  ...  Flotation Column 02 Level  Flotation Column 03 Level  \\\n",
      "8813          0.8  ...                     488.72                     441.67   \n",
      "8814          0.8  ...                     493.62                     442.70   \n",
      "8815          0.8  ...                     489.00                     446.02   \n",
      "8816          0.8  ...                     406.20                     442.00   \n",
      "8817          0.8  ...                     315.51                     443.46   \n",
      "\n",
      "      Flotation Column 04 Level  Flotation Column 05 Level  \\\n",
      "8813                     433.63                     448.48   \n",
      "8814                     445.16                     434.10   \n",
      "8815                     449.78                     433.77   \n",
      "8816                     456.19                     443.21   \n",
      "8817                     477.99                     446.38   \n",
      "\n",
      "      Flotation Column 06 Level  Flotation Column 07 Level  \\\n",
      "8813                     480.87                     489.38   \n",
      "8814                     451.63                     470.27   \n",
      "8815                     424.24                     439.25   \n",
      "8816                     422.53                     419.39   \n",
      "8817                     447.04                     426.76   \n",
      "\n",
      "      % Iron Concentrate  % Silica Concentrate  % Iron Concentrate 2  \\\n",
      "8813               67.06                  1.11                 66.79   \n",
      "8814               67.06                  1.11                 66.79   \n",
      "8815               67.06                  1.11                 66.79   \n",
      "8816               67.06                  1.11                 66.79   \n",
      "8817               67.06                  1.11                 66.79   \n",
      "\n",
      "      % Silica Concentrate 2  \n",
      "8813                    1.36  \n",
      "8814                    1.36  \n",
      "8815                    1.36  \n",
      "8816                    1.36  \n",
      "8817                    1.36  \n",
      "\n",
      "[5 rows x 30 columns]\n"
     ]
    },
    {
     "name": "stderr",
     "output_type": "stream",
     "text": [
      "/tmp/ipykernel_2665/499030973.py:12: SettingWithCopyWarning: \n",
      "A value is trying to be set on a copy of a slice from a DataFrame.\n",
      "Try using .loc[row_indexer,col_indexer] = value instead\n",
      "\n",
      "See the caveats in the documentation: https://pandas.pydata.org/pandas-docs/stable/user_guide/indexing.html#returning-a-view-versus-a-copy\n",
      "  df_filtered[columns_to_impute] = imputer.fit_transform(df_filtered[columns_to_impute])\n"
     ]
    }
   ],
   "source": [
    "from sklearn.experimental import enable_iterative_imputer  # Enable iterative imputer\n",
    "from sklearn.impute import IterativeImputer\n",
    "# Define the columns you want to exclude from imputation\n",
    "exclude_columns = ['ts', '% Iron Concentrate', '% Silica Concentrate', '% Iron Concentrate 2',\n",
    "       '% Silica Concentrate 2']\n",
    "# Separate the columns to impute (exclude the specified columns)\n",
    "columns_to_impute = [col for col in df_filtered.columns if col not in exclude_columns]\n",
    "# Initialize the IterativeImputer (MICE imputation)\n",
    "imputer = IterativeImputer(max_iter=10, random_state=42)\n",
    " \n",
    "# Apply imputation on the selected columns (those with missing values)\n",
    "df_filtered[columns_to_impute] = imputer.fit_transform(df_filtered[columns_to_impute])\n",
    " \n",
    "# Check if there are any missing values left\n",
    "print(df_filtered.isnull().sum())  # Check if there are still missing values\n",
    "print(df_filtered.head())  # Preview the imputed dataset"
   ]
  },
  {
   "cell_type": "code",
   "execution_count": 15,
   "metadata": {},
   "outputs": [
    {
     "data": {
      "text/plain": [
       "ts                              0\n",
       "% Iron Feed                     0\n",
       "% Silica Feed                   0\n",
       "Starch Flow                     0\n",
       "Amina Flow                      0\n",
       "Ore Pulp Flow                   0\n",
       "Ore Pulp pH                     0\n",
       "Ore Pulp Density                0\n",
       "Cell Spin Factor                0\n",
       "Bubble Size                     0\n",
       "Iron Binding Agent (kg)         0\n",
       "Binder Activator (kg)           0\n",
       "Flotation Column 01 Air Flow    0\n",
       "Flotation Column 02 Air Flow    0\n",
       "Flotation Column 03 Air Flow    0\n",
       "Flotation Column 04 Air Flow    0\n",
       "Flotation Column 05 Air Flow    0\n",
       "Flotation Column 06 Air Flow    0\n",
       "Flotation Column 07 Air Flow    0\n",
       "Flotation Column 01 Level       0\n",
       "Flotation Column 02 Level       0\n",
       "Flotation Column 03 Level       0\n",
       "Flotation Column 04 Level       0\n",
       "Flotation Column 05 Level       0\n",
       "Flotation Column 06 Level       0\n",
       "Flotation Column 07 Level       0\n",
       "% Iron Concentrate              0\n",
       "% Silica Concentrate            0\n",
       "% Iron Concentrate 2            0\n",
       "% Silica Concentrate 2          0\n",
       "dtype: int64"
      ]
     },
     "execution_count": 15,
     "metadata": {},
     "output_type": "execute_result"
    }
   ],
   "source": [
    "df_filtered.isna().sum()"
   ]
  },
  {
   "cell_type": "markdown",
   "metadata": {},
   "source": [
    "#### Feature Engineering"
   ]
  },
  {
   "cell_type": "code",
   "execution_count": 16,
   "metadata": {},
   "outputs": [],
   "source": [
    "# df_filtered[(df_filtered.ts> '2024-03-15 02:00:00') & (df_filtered.ts< '2024-03-15 03:00:00')]"
   ]
  },
  {
   "cell_type": "code",
   "execution_count": 17,
   "metadata": {},
   "outputs": [],
   "source": [
    "# df_filtered[(df_filtered.ts> '2024-03-15 02:55:40') ].head(20)"
   ]
  },
  {
   "cell_type": "code",
   "execution_count": 18,
   "metadata": {},
   "outputs": [],
   "source": [
    "# df_filtered[df_filtered['% Silica Concentrate 2']==1.36].head(60)"
   ]
  },
  {
   "cell_type": "code",
   "execution_count": null,
   "metadata": {},
   "outputs": [
    {
     "data": {
      "text/html": [
       "<div>\n",
       "<style scoped>\n",
       "    .dataframe tbody tr th:only-of-type {\n",
       "        vertical-align: middle;\n",
       "    }\n",
       "\n",
       "    .dataframe tbody tr th {\n",
       "        vertical-align: top;\n",
       "    }\n",
       "\n",
       "    .dataframe thead th {\n",
       "        text-align: right;\n",
       "    }\n",
       "</style>\n",
       "<table border=\"1\" class=\"dataframe\">\n",
       "  <thead>\n",
       "    <tr style=\"text-align: right;\">\n",
       "      <th></th>\n",
       "      <th>ts</th>\n",
       "      <th>% Silica Concentrate 2</th>\n",
       "    </tr>\n",
       "  </thead>\n",
       "  <tbody>\n",
       "    <tr>\n",
       "      <th>8813</th>\n",
       "      <td>2024-03-15 02:00:00</td>\n",
       "      <td>1.36</td>\n",
       "    </tr>\n",
       "    <tr>\n",
       "      <th>8814</th>\n",
       "      <td>2024-03-15 02:00:20</td>\n",
       "      <td>1.36</td>\n",
       "    </tr>\n",
       "    <tr>\n",
       "      <th>8815</th>\n",
       "      <td>2024-03-15 02:00:40</td>\n",
       "      <td>1.36</td>\n",
       "    </tr>\n",
       "    <tr>\n",
       "      <th>8816</th>\n",
       "      <td>2024-03-15 02:01:00</td>\n",
       "      <td>1.36</td>\n",
       "    </tr>\n",
       "    <tr>\n",
       "      <th>8817</th>\n",
       "      <td>2024-03-15 02:01:20</td>\n",
       "      <td>1.36</td>\n",
       "    </tr>\n",
       "    <tr>\n",
       "      <th>8818</th>\n",
       "      <td>2024-03-15 02:01:40</td>\n",
       "      <td>1.36</td>\n",
       "    </tr>\n",
       "    <tr>\n",
       "      <th>8819</th>\n",
       "      <td>2024-03-15 02:02:00</td>\n",
       "      <td>1.36</td>\n",
       "    </tr>\n",
       "    <tr>\n",
       "      <th>8820</th>\n",
       "      <td>2024-03-15 02:02:40</td>\n",
       "      <td>1.36</td>\n",
       "    </tr>\n",
       "    <tr>\n",
       "      <th>8821</th>\n",
       "      <td>2024-03-15 02:03:00</td>\n",
       "      <td>1.36</td>\n",
       "    </tr>\n",
       "    <tr>\n",
       "      <th>8822</th>\n",
       "      <td>2024-03-15 02:03:20</td>\n",
       "      <td>1.36</td>\n",
       "    </tr>\n",
       "    <tr>\n",
       "      <th>8823</th>\n",
       "      <td>2024-03-15 02:03:40</td>\n",
       "      <td>1.36</td>\n",
       "    </tr>\n",
       "    <tr>\n",
       "      <th>8824</th>\n",
       "      <td>2024-03-15 02:04:00</td>\n",
       "      <td>1.36</td>\n",
       "    </tr>\n",
       "    <tr>\n",
       "      <th>8825</th>\n",
       "      <td>2024-03-15 02:04:20</td>\n",
       "      <td>1.36</td>\n",
       "    </tr>\n",
       "    <tr>\n",
       "      <th>8826</th>\n",
       "      <td>2024-03-15 02:05:00</td>\n",
       "      <td>1.36</td>\n",
       "    </tr>\n",
       "    <tr>\n",
       "      <th>8827</th>\n",
       "      <td>2024-03-15 02:05:20</td>\n",
       "      <td>1.36</td>\n",
       "    </tr>\n",
       "  </tbody>\n",
       "</table>\n",
       "</div>"
      ],
      "text/plain": [
       "                      ts  % Silica Concentrate 2\n",
       "8813 2024-03-15 02:00:00                    1.36\n",
       "8814 2024-03-15 02:00:20                    1.36\n",
       "8815 2024-03-15 02:00:40                    1.36\n",
       "8816 2024-03-15 02:01:00                    1.36\n",
       "8817 2024-03-15 02:01:20                    1.36\n",
       "8818 2024-03-15 02:01:40                    1.36\n",
       "8819 2024-03-15 02:02:00                    1.36\n",
       "8820 2024-03-15 02:02:40                    1.36\n",
       "8821 2024-03-15 02:03:00                    1.36\n",
       "8822 2024-03-15 02:03:20                    1.36\n",
       "8823 2024-03-15 02:03:40                    1.36\n",
       "8824 2024-03-15 02:04:00                    1.36\n",
       "8825 2024-03-15 02:04:20                    1.36\n",
       "8826 2024-03-15 02:05:00                    1.36\n",
       "8827 2024-03-15 02:05:20                    1.36"
      ]
     },
     "execution_count": 148,
     "metadata": {},
     "output_type": "execute_result"
    }
   ],
   "source": [
    "# df_filtered[['ts', '% Silica Concentrate 2']].head(15)"
   ]
  },
  {
   "cell_type": "code",
   "execution_count": null,
   "metadata": {},
   "outputs": [
    {
     "name": "stdout",
     "output_type": "stream",
     "text": [
      "<class 'pandas.core.frame.DataFrame'>\n",
      "Index: 708640 entries, 8813 to 717452\n",
      "Data columns (total 30 columns):\n",
      " #   Column                        Non-Null Count   Dtype         \n",
      "---  ------                        --------------   -----         \n",
      " 0   ts                            708640 non-null  datetime64[ns]\n",
      " 1   % Iron Feed                   708640 non-null  float64       \n",
      " 2   % Silica Feed                 708640 non-null  float64       \n",
      " 3   Starch Flow                   708640 non-null  float64       \n",
      " 4   Amina Flow                    708640 non-null  float64       \n",
      " 5   Ore Pulp Flow                 708640 non-null  float64       \n",
      " 6   Ore Pulp pH                   708640 non-null  float64       \n",
      " 7   Ore Pulp Density              708640 non-null  float64       \n",
      " 8   Cell Spin Factor              708640 non-null  float64       \n",
      " 9   Bubble Size                   708640 non-null  float64       \n",
      " 10  Iron Binding Agent (kg)       708640 non-null  float64       \n",
      " 11  Binder Activator (kg)         708640 non-null  float64       \n",
      " 12  Flotation Column 01 Air Flow  708640 non-null  float64       \n",
      " 13  Flotation Column 02 Air Flow  708640 non-null  float64       \n",
      " 14  Flotation Column 03 Air Flow  708640 non-null  float64       \n",
      " 15  Flotation Column 04 Air Flow  708640 non-null  float64       \n",
      " 16  Flotation Column 05 Air Flow  708640 non-null  float64       \n",
      " 17  Flotation Column 06 Air Flow  708640 non-null  float64       \n",
      " 18  Flotation Column 07 Air Flow  708640 non-null  float64       \n",
      " 19  Flotation Column 01 Level     708640 non-null  float64       \n",
      " 20  Flotation Column 02 Level     708640 non-null  float64       \n",
      " 21  Flotation Column 03 Level     708640 non-null  float64       \n",
      " 22  Flotation Column 04 Level     708640 non-null  float64       \n",
      " 23  Flotation Column 05 Level     708640 non-null  float64       \n",
      " 24  Flotation Column 06 Level     708640 non-null  float64       \n",
      " 25  Flotation Column 07 Level     708640 non-null  float64       \n",
      " 26  % Iron Concentrate            708640 non-null  float64       \n",
      " 27  % Silica Concentrate          708640 non-null  float64       \n",
      " 28  % Iron Concentrate 2          708640 non-null  float64       \n",
      " 29  % Silica Concentrate 2        708640 non-null  float64       \n",
      "dtypes: datetime64[ns](1), float64(29)\n",
      "memory usage: 167.6 MB\n"
     ]
    }
   ],
   "source": [
    "# df_filtered.info()"
   ]
  },
  {
   "cell_type": "code",
   "execution_count": null,
   "metadata": {},
   "outputs": [
    {
     "data": {
      "text/plain": [
       "(708640, 30)"
      ]
     },
     "execution_count": 161,
     "metadata": {},
     "output_type": "execute_result"
    }
   ],
   "source": [
    "# df_filtered.shape"
   ]
  },
  {
   "cell_type": "markdown",
   "metadata": {},
   "source": [
    "#### Training"
   ]
  },
  {
   "cell_type": "code",
   "execution_count": 19,
   "metadata": {},
   "outputs": [],
   "source": [
    "def group_by_period(df, time_column, freq):\n",
    "\n",
    "    aggregation = {}\n",
    "    for column in df.columns:\n",
    "        if column == time_column:\n",
    "            continue\n",
    "        if df[column].dtype == \"object\":\n",
    "            print()\n",
    "            aggregation[column] = lambda x: (\n",
    "                x.mode().iloc[0] if not x.mode().empty else None\n",
    "            )\n",
    "        else:  # Numeric columns\n",
    "            aggregation[column] = \"mean\"\n",
    "\n",
    "    # Group by 15-minute intervals using pd.Grouper without setting index\n",
    "    df_grouped = (\n",
    "        df.groupby(pd.Grouper(key=\"ts\", freq=freq))\n",
    "        .agg(aggregation)\n",
    "        .dropna(how=\"all\")\n",
    "        .reset_index()\n",
    "    )\n",
    "    return df_grouped"
   ]
  },
  {
   "cell_type": "code",
   "execution_count": 20,
   "metadata": {},
   "outputs": [
    {
     "name": "stderr",
     "output_type": "stream",
     "text": [
      "/tmp/ipykernel_2665/1673687939.py:17: FutureWarning: 'S' is deprecated and will be removed in a future version, please use 's' instead.\n",
      "  df.groupby(pd.Grouper(key=\"ts\", freq=freq))\n"
     ]
    }
   ],
   "source": [
    "df_grouped = group_by_period(df_filtered, 'ts', \"3600S\")"
   ]
  },
  {
   "cell_type": "code",
   "execution_count": 21,
   "metadata": {},
   "outputs": [
    {
     "name": "stdout",
     "output_type": "stream",
     "text": [
      "Taille du train: 3188\n",
      "Taille du test: 797\n"
     ]
    }
   ],
   "source": [
    "train_size = 0.8\n",
    "train_index = int(len(df_grouped) * train_size)\n",
    "train = df_grouped.iloc[:train_index]\n",
    "test = df_grouped.iloc[train_index:]\n",
    "print(\"Taille du train:\", len(train))\n",
    "print(\"Taille du test:\", len(test))\n",
    "\n",
    "target_iron = '% Iron Concentrate 2'\n",
    "target_silicate = '% Silica Concentrate 2'\n",
    "\n",
    "columns_to_drop = ['ts', '% Iron Concentrate', '% Silica Concentrate', '% Iron Concentrate 2',\n",
    "       '% Silica Concentrate 2'] \n",
    "predictors = df_grouped.drop(columns=columns_to_drop).columns.tolist()\n",
    "\n",
    "X_train = train[predictors]\n",
    "X_test = test[predictors]\n",
    "y_train_iron = train[target_iron]\n",
    "y_train_silicate = train[target_silicate]\n",
    "y_test_iron = test[target_iron]\n",
    "y_test_silicate = test[target_silicate]"
   ]
  },
  {
   "cell_type": "code",
   "execution_count": 22,
   "metadata": {},
   "outputs": [],
   "source": [
    "from sklearn.ensemble import RandomForestRegressor, GradientBoostingRegressor\n",
    "from xgboost import XGBRegressor\n",
    "from sklearn.metrics import mean_absolute_error, mean_absolute_percentage_error\n",
    "from sklearn.linear_model import LinearRegression\n",
    "import pickle"
   ]
  },
  {
   "cell_type": "code",
   "execution_count": 23,
   "metadata": {},
   "outputs": [
    {
     "name": "stdout",
     "output_type": "stream",
     "text": [
      "MAE :  1.3927745294855696\n"
     ]
    }
   ],
   "source": [
    "rf_iron = RandomForestRegressor(random_state=42)\n",
    "rf_iron.fit(X_train, y_train_iron)\n",
    "y_pred_iron = rf_iron.predict(X_test)\n",
    "print(\"MAE : \", mean_absolute_error(y_test_iron, y_pred_iron))"
   ]
  },
  {
   "cell_type": "code",
   "execution_count": 24,
   "metadata": {},
   "outputs": [],
   "source": [
    "with open('models/rf_iron.pkl', 'wb') as file:\n",
    "    pickle.dump(rf_iron, file)"
   ]
  },
  {
   "cell_type": "code",
   "execution_count": 25,
   "metadata": {},
   "outputs": [
    {
     "name": "stdout",
     "output_type": "stream",
     "text": [
      "MAE :  0.8622143036386449\n"
     ]
    }
   ],
   "source": [
    "rf_silicate = RandomForestRegressor(random_state=42)\n",
    "rf_silicate.fit(X_train, y_train_silicate)\n",
    "y_pred_siliacte = rf_silicate.predict(X_test)\n",
    "print(\"MAE : \", mean_absolute_error(y_test_silicate, y_pred_siliacte))\n",
    "\n",
    "with open('models/rf_silicate.pkl', 'wb') as file:\n",
    "    pickle.dump(rf_silicate, file)"
   ]
  },
  {
   "cell_type": "code",
   "execution_count": 38,
   "metadata": {},
   "outputs": [
    {
     "data": {
      "text/plain": [
       "Index(['% Iron Feed', '% Silica Feed', 'Starch Flow', 'Amina Flow',\n",
       "       'Ore Pulp Flow', 'Ore Pulp pH', 'Ore Pulp Density', 'Cell Spin Factor',\n",
       "       'Bubble Size', 'Iron Binding Agent (kg)', 'Binder Activator (kg)',\n",
       "       'Flotation Column 01 Air Flow', 'Flotation Column 02 Air Flow',\n",
       "       'Flotation Column 03 Air Flow', 'Flotation Column 04 Air Flow',\n",
       "       'Flotation Column 05 Air Flow', 'Flotation Column 06 Air Flow',\n",
       "       'Flotation Column 07 Air Flow', 'Flotation Column 01 Level',\n",
       "       'Flotation Column 02 Level', 'Flotation Column 03 Level',\n",
       "       'Flotation Column 04 Level', 'Flotation Column 05 Level',\n",
       "       'Flotation Column 06 Level', 'Flotation Column 07 Level'],\n",
       "      dtype='object')"
      ]
     },
     "execution_count": 38,
     "metadata": {},
     "output_type": "execute_result"
    }
   ],
   "source": [
    "X_test.columns"
   ]
  },
  {
   "cell_type": "code",
   "execution_count": 26,
   "metadata": {},
   "outputs": [
    {
     "name": "stdout",
     "output_type": "stream",
     "text": [
      "MAE Random Forest:  1.3927745294855696\n",
      "MAPE Random Forest:  0.022720119220080586\n",
      "MAE Gradient Boosting:  1.4396611074091175\n",
      "MAPE Gradient Boosting:  0.02349065127891514\n",
      "MAE xgboost regressor:  1.514025905326738\n",
      "MAPE xgboost regressor:  0.024743379930689095\n"
     ]
    }
   ],
   "source": [
    "models = {\n",
    "    'Random Forest': RandomForestRegressor(random_state=42),\n",
    "    'Gradient Boosting': GradientBoostingRegressor(random_state=42),\n",
    "    'xgboost regressor': XGBRegressor(n_estimators=1000, max_depth=7, eta=0.1, subsample=0.7, colsample_bytree=0.8, random_state=42)}\n",
    "\n",
    "for name, model in models.items():\n",
    "    model.fit(X_train, y_train_iron)\n",
    "    y_pred_iron = model.predict(X_test)\n",
    "    print(f\"MAE {name}: \", mean_absolute_error(y_test_iron, y_pred_iron))\n",
    "    print(f\"MAPE {name}: \", mean_absolute_percentage_error(y_test_iron, y_pred_iron))"
   ]
  },
  {
   "cell_type": "code",
   "execution_count": 27,
   "metadata": {},
   "outputs": [
    {
     "name": "stdout",
     "output_type": "stream",
     "text": [
      "MAE Random Forest:  0.8622143036386449\n",
      "MAPE Random Forest:  0.36833198335240375\n",
      "MAE Gradient Boosting:  0.846279331839276\n",
      "MAPE Gradient Boosting:  0.3420448440344709\n",
      "MAE xgboost regressor:  0.8413681965281105\n",
      "MAPE xgboost regressor:  0.36614395130035554\n"
     ]
    }
   ],
   "source": [
    "for name, model in models.items():\n",
    "    model.fit(X_train, y_train_silicate)\n",
    "    y_pred_silicate = model.predict(X_test)\n",
    "    print(f\"MAE {name}: \", mean_absolute_error(y_test_silicate, y_pred_silicate))\n",
    "    print(f\"MAPE {name}: \", mean_absolute_percentage_error(y_test_silicate, y_pred_silicate))"
   ]
  },
  {
   "cell_type": "code",
   "execution_count": 34,
   "metadata": {},
   "outputs": [],
   "source": [
    "# import plotly.graph_objects as go\n",
    "\n",
    "# def plot(test_timestamp, y_true, y_pred):\n",
    "#     fig = go.Figure()\n",
    "#     fig.add_trace(\n",
    "#         go.Scatter(\n",
    "#             x=test_timestamp,\n",
    "#             y=y_true,\n",
    "#             mode=\"lines\",\n",
    "#             name=\"Errors Recup\",\n",
    "#             line=dict(color=\"blue\"),\n",
    "#         )\n",
    "#     )\n",
    "#     fig.add_trace(\n",
    "#         go.Scatter(\n",
    "#             x=test_timestamp,\n",
    "#             y=y_pred,\n",
    "#             mode=\"lines\",\n",
    "#             name=\"Errors Silice\",\n",
    "#             line=dict(color=\"red\"),\n",
    "#         )\n",
    "#     )\n",
    "\n",
    "#     fig.update_layout(\n",
    "#         title=\"Errors Recup and Silice\",\n",
    "#         xaxis_title=\"Time\",\n",
    "#         yaxis_title=\"Error value\",\n",
    "#         xaxis_tickangle=-45,\n",
    "#         legend_title=\"Errors\",\n",
    "#     )\n",
    "\n",
    "#     fig.show()"
   ]
  },
  {
   "cell_type": "code",
   "execution_count": 35,
   "metadata": {},
   "outputs": [],
   "source": [
    "# plot(test.ts, y_test_iron, y_pred_iron)"
   ]
  },
  {
   "cell_type": "code",
   "execution_count": 33,
   "metadata": {},
   "outputs": [],
   "source": [
    "# plot(test.ts, y_test_silicate, y_pred_silicate)"
   ]
  },
  {
   "cell_type": "code",
   "execution_count": 36,
   "metadata": {},
   "outputs": [],
   "source": [
    "# def calculate_new_trend_score(\n",
    "#     y_test: pd.Series, y_pred: pd.Series, thrsh: float\n",
    "# ) -> float:\n",
    "\n",
    "#     assert len(y_test) == len(y_pred)\n",
    "#     # Create temporary dataframe\n",
    "#     df = pd.DataFrame([y_test.values, y_pred]).T\n",
    "#     df.columns = [\"y_true\", \"y_pred\"]\n",
    "#     df[\"diff_from_previous_value_y_true\"] = df[\"y_true\"] - df[\"y_true\"].shift(\n",
    "#         1\n",
    "#     )\n",
    "#     df[\"diff_from_previous_value_y_pred\"] = df[\"y_pred\"] - df[\"y_pred\"].shift(\n",
    "#         1\n",
    "#     )\n",
    "#     df[\"drop_y_true\"] = df[\"diff_from_previous_value_y_true\"] < 0\n",
    "#     df[\"drop_y_pred\"] = df[\"diff_from_previous_value_y_pred\"] < 0\n",
    "#     df[\"same_direction\"] = (df[\"drop_y_true\"] == df[\"drop_y_pred\"]) | (\n",
    "#         (abs(df[\"diff_from_previous_value_y_true\"]) < thrsh)\n",
    "#         & (abs(df[\"diff_from_previous_value_y_pred\"]) < thrsh)\n",
    "#     )\n",
    "\n",
    "#     trend_score = len(df.loc[df.same_direction == True]) / len(df)\n",
    "\n",
    "#     return trend_score"
   ]
  },
  {
   "cell_type": "code",
   "execution_count": null,
   "metadata": {},
   "outputs": [],
   "source": []
  }
 ],
 "metadata": {
  "kernelspec": {
   "display_name": "fer",
   "language": "python",
   "name": "python3"
  },
  "language_info": {
   "codemirror_mode": {
    "name": "ipython",
    "version": 3
   },
   "file_extension": ".py",
   "mimetype": "text/x-python",
   "name": "python",
   "nbconvert_exporter": "python",
   "pygments_lexer": "ipython3",
   "version": "3.10.15"
  }
 },
 "nbformat": 4,
 "nbformat_minor": 2
}
